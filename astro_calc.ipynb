{
 "cells": [
  {
   "cell_type": "code",
   "execution_count": 14,
   "metadata": {},
   "outputs": [
    {
     "name": "stdout",
     "output_type": "stream",
     "text": [
      "0.5477197401610968\n"
     ]
    }
   ],
   "source": [
    "#claculator:\n",
    "#absolute magnitude\n",
    "import numpy as np\n",
    "\n",
    "d =  25 / 3.262\n",
    "m = - 0.03 - (5* np.log10(d/10))\n",
    "print(m)    "
   ]
  },
  {
   "cell_type": "code",
   "execution_count": 15,
   "metadata": {},
   "outputs": [
    {
     "name": "stdout",
     "output_type": "stream",
     "text": [
      "1.982121243151358e+28\n"
     ]
    }
   ],
   "source": [
    "#luminosity wrt sun\n",
    "ls = 3.839 * 10**26 \n",
    "ms = 4.83   \n",
    "l = ls * 10**((ms-m)/2.5)   \n",
    "print(l)    "
   ]
  }
 ],
 "metadata": {
  "kernelspec": {
   "display_name": "Python 3",
   "language": "python",
   "name": "python3"
  },
  "language_info": {
   "codemirror_mode": {
    "name": "ipython",
    "version": 3
   },
   "file_extension": ".py",
   "mimetype": "text/x-python",
   "name": "python",
   "nbconvert_exporter": "python",
   "pygments_lexer": "ipython3",
   "version": "3.9.6"
  }
 },
 "nbformat": 4,
 "nbformat_minor": 2
}
